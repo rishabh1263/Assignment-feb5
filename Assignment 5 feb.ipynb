{
 "cells": [
  {
   "cell_type": "markdown",
   "id": "f0435b0d",
   "metadata": {},
   "source": [
    "##Q1. Explain Class and Object with respect to Object-Oriented Programming. Give a suitable example.\n",
    "Object − Objects have states and behaviors. Example: A dog has states - color, name, breed as well as behaviors – wagging the tail, barking, eating. An object is an instance of a class. Class − A class can be defined as a template/blueprint that describes the behavior/state that the object of its type support."
   ]
  },
  {
   "cell_type": "markdown",
   "id": "74d408df",
   "metadata": {},
   "source": [
    "##Q2. Name the four pillars of OOPs.\n",
    "These principles are called the four pillars of object-oriented programming (OOP). These four pillars are Inheritance, Polymorphism, Encapsulation and Abstraction."
   ]
  },
  {
   "cell_type": "markdown",
   "id": "46a8f72e",
   "metadata": {},
   "source": [
    "Q3. ##Q3Explain why the __init__() function is used. Give a suitable example.\n",
    "The __init__() Function\n",
    "The examples above are classes and objects in their simplest form, and are not really useful in real life applications.\n",
    "\n",
    "To understand the meaning of classes we have to understand the built-in __init__() function.\n",
    "\n",
    "All classes have a function called __init__(), which is always executed when the class is being initiated.\n",
    "\n",
    "Use the __init__() function to assign values to object properties, or other operations that are necessary to do when the object is being created:\n",
    "ExampleGet your own Python Server\n",
    "Create a class named Person, use the __init__() function to assign values for name and age:\n",
    "\n",
    "class Person:\n",
    "  def __init__(self, name, age):\n",
    "    self.name = name\n",
    "    self.age = age\n",
    "\n",
    "p1 = Person(\"John\", 36)\n",
    "\n",
    "print(p1.name)\n",
    "print(p1.age)"
   ]
  },
  {
   "cell_type": "markdown",
   "id": "10b08605",
   "metadata": {},
   "source": [
    "##Q4. Why self is used in OOPs?\n",
    "self is parameter in Instance Method and user can use another parameter name in place of it. But it is advisable to use self because it increases the readability of code, and it is also a good programming practice"
   ]
  },
  {
   "cell_type": "markdown",
   "id": "61caea9b",
   "metadata": {},
   "source": [
    "##Q5. What is inheritance? Give an example for each type of inheritance.\n",
    "The class whose members are inherited is called the base class, and the class that inherits those members is called the derived class. Inheritance implements the IS-A relationship. For example, mammal IS-A animal, dog IS-A mammal; Hence dog IS-A animal as well."
   ]
  },
  {
   "cell_type": "code",
   "execution_count": null,
   "id": "fad1b17b",
   "metadata": {},
   "outputs": [],
   "source": []
  }
 ],
 "metadata": {
  "kernelspec": {
   "display_name": "Python 3 (ipykernel)",
   "language": "python",
   "name": "python3"
  },
  "language_info": {
   "codemirror_mode": {
    "name": "ipython",
    "version": 3
   },
   "file_extension": ".py",
   "mimetype": "text/x-python",
   "name": "python",
   "nbconvert_exporter": "python",
   "pygments_lexer": "ipython3",
   "version": "3.9.13"
  }
 },
 "nbformat": 4,
 "nbformat_minor": 5
}
